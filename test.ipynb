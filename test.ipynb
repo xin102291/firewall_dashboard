{
 "cells": [
  {
   "cell_type": "code",
   "execution_count": 1,
   "metadata": {},
   "outputs": [
    {
     "name": "stdout",
     "output_type": "stream",
     "text": [
      "scrypt:32768:8:1$OPbQa1JRTkIydsTG$18519809072c9f3f01c3acafb07d1e48ae565141046cb8a7f4b352c61dc2e499bba25bb667cfd6f3e87bffd05a1ea67ab26bc61aecb6c5e206ae24150156c55d\n"
     ]
    }
   ],
   "source": [
    "from werkzeug.security import generate_password_hash\n",
    "\n",
    "input_ = \"123456\"  # 密碼\n",
    "hashed_password = generate_password_hash(input_)\n",
    "print(hashed_password)"
   ]
  }
 ],
 "metadata": {
  "kernelspec": {
   "display_name": "Python 3",
   "language": "python",
   "name": "python3"
  },
  "language_info": {
   "codemirror_mode": {
    "name": "ipython",
    "version": 3
   },
   "file_extension": ".py",
   "mimetype": "text/x-python",
   "name": "python",
   "nbconvert_exporter": "python",
   "pygments_lexer": "ipython3",
   "version": "3.12.3"
  }
 },
 "nbformat": 4,
 "nbformat_minor": 2
}
